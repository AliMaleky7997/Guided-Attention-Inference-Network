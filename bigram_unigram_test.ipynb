{
 "cells": [
  {
   "cell_type": "code",
   "execution_count": 2,
   "metadata": {},
   "outputs": [],
   "source": [
    "import csv\n",
    "import json\n",
    "import numpy as np\n",
    "import math\n",
    "import xlrd\n",
    "import matplotlib.pyplot as plt"
   ]
  },
  {
   "cell_type": "code",
   "execution_count": 91,
   "metadata": {},
   "outputs": [
    {
     "name": "stdout",
     "output_type": "stream",
     "text": [
      "number of all data = 1141606\n",
      "number of all errors occured(either unicode error or rows with irregular number of items) = 6407\n"
     ]
    }
   ],
   "source": [
    "'''\n",
    "reading raw data from tsv file into raw_data\n",
    "'''\n",
    "keys = {'timestamp': 0, 'SearchQuery': 1, 'SearchKeyword': 2, 'finalAssetIdList': 3, 'myfinalAssetIdList': 4}\n",
    "def read_data(file_path):\n",
    "    count = 0\n",
    "    error = 0\n",
    "    raw_data = []\n",
    "    \n",
    "    with open(file_path, encoding='utf-16') as tsvfile:\n",
    "        tsvreader = csv.reader(tsvfile, delimiter=\"\\t\")\n",
    "        skip = next(tsvreader)\n",
    "        while True:\n",
    "            try:\n",
    "                row = next(tsvreader)\n",
    "                if len(row) != 4:\n",
    "                    error += 1\n",
    "                    continue\n",
    "\n",
    "                dictionary = row[1]\n",
    "                dictionary = json.loads(dictionary)\n",
    "                raw_data.append([row[0], row[2], row[3], dictionary])\n",
    "                count += 1\n",
    "            except UnicodeDecodeError:\n",
    "                error += 1\n",
    "                continue\n",
    "            except StopIteration:\n",
    "                break\n",
    "    print(\"number of all data = {}\".format(count))\n",
    "    print(\"number of all errors occured(either unicode error or rows with irregular number of items) = {}\".format(error))\n",
    "    return raw_data\n",
    "\n",
    "raw_data = read_data(\"dt29to3/dt29to3.tsv\")\n",
    "# raw_data = read_data(\"data.tsv\")"
   ]
  },
  {
   "cell_type": "code",
   "execution_count": 92,
   "metadata": {},
   "outputs": [
    {
     "name": "stdout",
     "output_type": "stream",
     "text": [
      "total number of pairs having true cvrs is 5875\n",
      "number of distinct keywords = 3942 and number of distinct advertisers in true cvr data = 57\n"
     ]
    }
   ],
   "source": [
    "'''\n",
    "reading the real cvr data from the file and saving them into cvr which is a dictionary with keys (advertiser_id, keyword)\n",
    "'''\n",
    "loc = (\"Maleki_AssetDetails.xlsx\") \n",
    "  \n",
    "wb = xlrd.open_workbook(loc) \n",
    "sheet = wb.sheet_by_index(0) \n",
    "\n",
    "\n",
    "cvr = {}\n",
    "impression = {}\n",
    "for i in range(1, sheet.nrows):\n",
    "    cvr[(int(sheet.cell_value(i, 0)),sheet.cell_value(i, 1))] = sheet.cell_value(i, 5)\n",
    "    impression[(int(sheet.cell_value(i, 0)),sheet.cell_value(i, 1))] = int(sheet.cell_value(i, 2))\n",
    "#     if sheet.cell_value(i, 5) != 0:\n",
    "#         cvr[(int(sheet.cell_value(i, 0)),sheet.cell_value(i, 1))] = sheet.cell_value(i, 5)\n",
    "        \n",
    "kws = set()\n",
    "ads = set()\n",
    "for i in range(1, sheet.nrows):\n",
    "    ads.add(int(sheet.cell_value(i, 0)))\n",
    "    kws.add(sheet.cell_value(i, 1))\n",
    "print(\"total number of pairs having true cvrs is {}\".format(len(cvr.keys())))\n",
    "print(\"number of distinct keywords = {} and number of distinct advertisers in true cvr data = {}\".format(len(list(kws)), len(list(ads))))\n",
    "# print(cvr)\n",
    "# print(type(sheet.cell_value(3,0)))"
   ]
  },
  {
   "cell_type": "code",
   "execution_count": 93,
   "metadata": {},
   "outputs": [
    {
     "name": "stdout",
     "output_type": "stream",
     "text": [
      "total number of 28565 advertiser-keyword pairs were found\n"
     ]
    }
   ],
   "source": [
    "loc = (\"Asset_keyword_price.xlsx\") \n",
    "  \n",
    "wb = xlrd.open_workbook(loc) \n",
    "sheet = wb.sheet_by_index(0)\n",
    "\n",
    "adv_kw = []\n",
    "\n",
    "for i in range(1, sheet.nrows):\n",
    "    if type(sheet.cell_value(i, 2)) == float:\n",
    "        temp = (int(sheet.cell_value(i, 0)), str(sheet.cell_value(i, 1)), sheet.cell_value(i, 2))\n",
    "    adv_kw.append(temp)\n",
    "print(\"total number of {} advertiser-keyword pairs were found\".format(len(adv_kw)))"
   ]
  },
  {
   "cell_type": "code",
   "execution_count": 95,
   "metadata": {},
   "outputs": [
    {
     "name": "stdout",
     "output_type": "stream",
     "text": [
      "In 28565 pairs, 5857 of them had true cvr.\n"
     ]
    }
   ],
   "source": [
    "count1, count2 = 0, 0\n",
    "for (adv_id, kw, bid) in adv_kw:\n",
    "    if (adv_id, kw) in cvr.keys():\n",
    "        count1 += 1\n",
    "    count2 += 1\n",
    "print(\"In {} pairs, {} of them had true cvr.\".format(count2, count1))"
   ]
  },
  {
   "cell_type": "code",
   "execution_count": 96,
   "metadata": {},
   "outputs": [
    {
     "name": "stdout",
     "output_type": "stream",
     "text": [
      "واتساپ\n"
     ]
    },
    {
     "data": {
      "text/plain": [
       "[{'Id': 14239, 'Kw': 'واتساپ', 'Pr': 1500.0, 'Bigram': False},\n",
       " {'Id': 14243, 'Kw': 'واتساپ', 'Pr': 2000.0, 'Bigram': False},\n",
       " {'Id': 14241, 'Kw': 'واتساپ', 'Pr': 1800.0, 'Bigram': False},\n",
       " {'Id': 14316, 'Kw': 'واتساپ', 'Pr': 1500.0, 'Bigram': False},\n",
       " {'Id': 14423, 'Kw': 'واتساپ', 'Pr': 1500.0, 'Bigram': False}]"
      ]
     },
     "execution_count": 96,
     "metadata": {},
     "output_type": "execute_result"
    }
   ],
   "source": [
    "def match_keyword(search_query, keywords):\n",
    "    keyword = \"\"\n",
    "    for word in search_query:\n",
    "        if word in keywords:\n",
    "            keyword += word + \" \"\n",
    "    return keyword[:-1]\n",
    "\n",
    "def get_all_bidders(query):\n",
    "    all_assets = []\n",
    "    search_query = query[keys['SearchQuery']].split()\n",
    "    \n",
    "    for (adv_id, kw, bid) in adv_kw:\n",
    "        kw = kw.split()\n",
    "        flag = True\n",
    "        for keyword in kw:\n",
    "            if keyword not in search_query:\n",
    "                flag = False\n",
    "        \n",
    "        if flag:\n",
    "            all_assets += [(adv_id, kw, bid)]\n",
    "    all_assets_dict = {}\n",
    "    for asset in all_assets:\n",
    "        all_assets_dict[asset[0]] = []\n",
    "    for asset in all_assets:\n",
    "        all_assets_dict[asset[0]].append((asset[1], asset[2]))\n",
    "    \n",
    "    final_asset_list = []\n",
    "    for asset_id in all_assets_dict.keys():\n",
    "        bigram = False\n",
    "        bid = 0\n",
    "        keywords_combined = []\n",
    "        for item in all_assets_dict[asset_id]:\n",
    "            bid = max(bid, item[1])\n",
    "            keywords_combined += item[0]\n",
    "        if len(keywords_combined) > 1:\n",
    "            bigram = True\n",
    "        keywords_combined = list(set(keywords_combined))\n",
    "        matched_keyword = match_keyword(search_query, keywords_combined)\n",
    "        temp_dict = {'Id': asset_id, 'Kw': matched_keyword, 'Pr':bid, 'Bigram':bigram}\n",
    "        final_asset_list.append(temp_dict)\n",
    "    return final_asset_list\n",
    "\n",
    "i = 3\n",
    "# print(raw_data[i])\n",
    "print(raw_data[i][keys['SearchQuery']])\n",
    "# print(raw_data[i][keys['finalAssetIdList']])\n",
    "get_all_bidders(raw_data[i])            "
   ]
  },
  {
   "cell_type": "code",
   "execution_count": 97,
   "metadata": {},
   "outputs": [],
   "source": [
    "for i in range(len(adv_kw)):\n",
    "    if type(adv_kw[i][2]) != float:\n",
    "        print(i , adv_kw[i][2])"
   ]
  },
  {
   "cell_type": "code",
   "execution_count": 98,
   "metadata": {},
   "outputs": [
    {
     "name": "stdout",
     "output_type": "stream",
     "text": [
      "0 queries has been processed.\n"
     ]
    },
    {
     "ename": "KeyboardInterrupt",
     "evalue": "",
     "output_type": "error",
     "traceback": [
      "\u001b[1;31m---------------------------------------------------------------------------\u001b[0m",
      "\u001b[1;31mKeyboardInterrupt\u001b[0m                         Traceback (most recent call last)",
      "\u001b[1;32m<ipython-input-98-2b39ed61168a>\u001b[0m in \u001b[0;36m<module>\u001b[1;34m\u001b[0m\n\u001b[0;32m      1\u001b[0m \u001b[1;32mfor\u001b[0m \u001b[0mi\u001b[0m \u001b[1;32min\u001b[0m \u001b[0mrange\u001b[0m\u001b[1;33m(\u001b[0m\u001b[0mlen\u001b[0m\u001b[1;33m(\u001b[0m\u001b[0mraw_data\u001b[0m\u001b[1;33m)\u001b[0m\u001b[1;33m)\u001b[0m\u001b[1;33m:\u001b[0m\u001b[1;33m\u001b[0m\u001b[1;33m\u001b[0m\u001b[0m\n\u001b[1;32m----> 2\u001b[1;33m     \u001b[0mraw_data\u001b[0m\u001b[1;33m[\u001b[0m\u001b[0mi\u001b[0m\u001b[1;33m]\u001b[0m\u001b[1;33m.\u001b[0m\u001b[0mappend\u001b[0m\u001b[1;33m(\u001b[0m\u001b[0mget_all_bidders\u001b[0m\u001b[1;33m(\u001b[0m\u001b[0mraw_data\u001b[0m\u001b[1;33m[\u001b[0m\u001b[0mi\u001b[0m\u001b[1;33m]\u001b[0m\u001b[1;33m)\u001b[0m\u001b[1;33m)\u001b[0m\u001b[1;33m\u001b[0m\u001b[1;33m\u001b[0m\u001b[0m\n\u001b[0m\u001b[0;32m      3\u001b[0m     \u001b[1;32mif\u001b[0m \u001b[0mi\u001b[0m \u001b[1;33m%\u001b[0m \u001b[1;36m100000\u001b[0m \u001b[1;33m==\u001b[0m \u001b[1;36m0\u001b[0m\u001b[1;33m:\u001b[0m\u001b[1;33m\u001b[0m\u001b[1;33m\u001b[0m\u001b[0m\n\u001b[0;32m      4\u001b[0m         \u001b[0mprint\u001b[0m\u001b[1;33m(\u001b[0m\u001b[1;34m'{} queries has been processed.'\u001b[0m\u001b[1;33m.\u001b[0m\u001b[0mformat\u001b[0m\u001b[1;33m(\u001b[0m\u001b[0mi\u001b[0m\u001b[1;33m)\u001b[0m\u001b[1;33m)\u001b[0m\u001b[1;33m\u001b[0m\u001b[1;33m\u001b[0m\u001b[0m\n",
      "\u001b[1;32m<ipython-input-96-5410bf15b65d>\u001b[0m in \u001b[0;36mget_all_bidders\u001b[1;34m(query)\u001b[0m\n\u001b[0;32m     11\u001b[0m \u001b[1;33m\u001b[0m\u001b[0m\n\u001b[0;32m     12\u001b[0m     \u001b[1;32mfor\u001b[0m \u001b[1;33m(\u001b[0m\u001b[0madv_id\u001b[0m\u001b[1;33m,\u001b[0m \u001b[0mkw\u001b[0m\u001b[1;33m,\u001b[0m \u001b[0mbid\u001b[0m\u001b[1;33m)\u001b[0m \u001b[1;32min\u001b[0m \u001b[0madv_kw\u001b[0m\u001b[1;33m:\u001b[0m\u001b[1;33m\u001b[0m\u001b[1;33m\u001b[0m\u001b[0m\n\u001b[1;32m---> 13\u001b[1;33m         \u001b[0mkw\u001b[0m \u001b[1;33m=\u001b[0m \u001b[0mkw\u001b[0m\u001b[1;33m.\u001b[0m\u001b[0msplit\u001b[0m\u001b[1;33m(\u001b[0m\u001b[1;33m)\u001b[0m\u001b[1;33m\u001b[0m\u001b[1;33m\u001b[0m\u001b[0m\n\u001b[0m\u001b[0;32m     14\u001b[0m         \u001b[0mflag\u001b[0m \u001b[1;33m=\u001b[0m \u001b[1;32mTrue\u001b[0m\u001b[1;33m\u001b[0m\u001b[1;33m\u001b[0m\u001b[0m\n\u001b[0;32m     15\u001b[0m         \u001b[1;32mfor\u001b[0m \u001b[0mkeyword\u001b[0m \u001b[1;32min\u001b[0m \u001b[0mkw\u001b[0m\u001b[1;33m:\u001b[0m\u001b[1;33m\u001b[0m\u001b[1;33m\u001b[0m\u001b[0m\n",
      "\u001b[1;31mKeyboardInterrupt\u001b[0m: "
     ]
    }
   ],
   "source": [
    "for i in range(len(raw_data)):\n",
    "    raw_data[i].append(get_all_bidders(raw_data[i]))\n",
    "    if i % 100000 == 0:\n",
    "        print('{} queries has been processed.'.format(i))\n"
   ]
  },
  {
   "cell_type": "code",
   "execution_count": 9,
   "metadata": {},
   "outputs": [
    {
     "name": "stdout",
     "output_type": "stream",
     "text": [
      "numebr of all assets combined together = 1848066\n",
      "number of all queries with only one asset = 693563\n",
      "number of all pairs having true cvr = 5875 and number of pairs in cvr that are not in any asset in data = 1845\n",
      "Therefore, we have 4030 pairs of true cvr.\n"
     ]
    }
   ],
   "source": [
    "'''\n",
    "We should remove those data from the true cvr which we do not have any test data. First we \n",
    "'''\n",
    "all_assets = []\n",
    "for row in raw_data:\n",
    "    all_assets += row[keys['finalAssetIdList']]\n",
    "print(\"numebr of all assets combined together = {}\".format(len(all_assets)))\n",
    "count = 0\n",
    "for row in raw_data:\n",
    "    if len(row[keys['finalAssetIdList']]) == 1:\n",
    "        count += 1\n",
    "print(\"number of all queries with only one asset = {}\".format(count))\n",
    "\n",
    "\n",
    "all_pairs = set()\n",
    "for asset in all_assets:\n",
    "    all_pairs.add((asset['Id'], asset['Kw']))\n",
    "\n",
    "count = 0\n",
    "c = 0\n",
    "cvr_keys = list(cvr.keys())\n",
    "for key in cvr_keys:\n",
    "    if key not in all_pairs:\n",
    "        del cvr[key]\n",
    "        count += 1\n",
    "    c += 1\n",
    "print(\"number of all pairs having true cvr = {} and number of pairs in cvr that are not in any asset in data = {}\".format(c, count))\n",
    "print(\"Therefore, we have {} pairs of true cvr.\".format(len(cvr.keys())))"
   ]
  },
  {
   "cell_type": "code",
   "execution_count": 26,
   "metadata": {},
   "outputs": [
    {
     "name": "stdout",
     "output_type": "stream",
     "text": [
      "In total 1765147 number of assets, 286427 of them were matched to a bigram or more.\n",
      "In total 1141606 number of queries, 28355 of them had both bigram and unigram assets.\n"
     ]
    }
   ],
   "source": [
    "raw_data_del = []\n",
    "count1, count2 = 0, 0\n",
    "for row in raw_data:\n",
    "    assets = row[keys['finalAssetIdList']]\n",
    "    for asset in assets:\n",
    "        if len(asset['Kw'].split()) > 1:\n",
    "            count1 += 1\n",
    "        count2 += 1\n",
    "\n",
    "print(\"In total {} number of assets, {} of them were matched to a bigram or more.\".format(count2, count1))\n",
    "        \n",
    "count1, count2 = 0, 0\n",
    "for i in range(len(raw_data)):\n",
    "    assets = raw_data[i][keys['finalAssetIdList']]\n",
    "    flag1, flag2 = False, False\n",
    "    temp_asset = []\n",
    "    for asset in assets:\n",
    "        if len(asset['Kw'].split()) > 1:\n",
    "            flag1 = True\n",
    "            temp_asset.append(asset)\n",
    "        else:\n",
    "            flag2 = True\n",
    "    \n",
    "    raw_data_del.append(raw_data[i])\n",
    "    \n",
    "    if flag1 and flag2:\n",
    "        count1 += 1\n",
    "        raw_data_del[i][keys['finalAssetIdList']] = temp_asset\n",
    "#         raw_data[i].append(True)\n",
    "#     else:\n",
    "#         raw_data[i].append(False)\n",
    "    count2 += 1\n",
    "\n",
    "print(\"In total {} number of queries, {} of them had both bigram and unigram assets.\".format(count2, count1))"
   ]
  },
  {
   "cell_type": "code",
   "execution_count": 31,
   "metadata": {},
   "outputs": [
    {
     "data": {
      "text/plain": [
       "1141606"
      ]
     },
     "execution_count": 31,
     "metadata": {},
     "output_type": "execute_result"
    }
   ],
   "source": [
    "len(raw_data_del)"
   ]
  },
  {
   "cell_type": "code",
   "execution_count": 32,
   "metadata": {},
   "outputs": [
    {
     "name": "stdout",
     "output_type": "stream",
     "text": [
      "number of queries after filtering = 1100804\n"
     ]
    }
   ],
   "source": [
    "'''\n",
    "removing those assets whose true cvr is not available. if a query instance has no asset with true cvr data, then the\n",
    "whole query will be removed.\n",
    "'''\n",
    "data = []\n",
    "for row in raw_data:\n",
    "    temp = []\n",
    "    for bidder in row[keys['finalAssetIdList']]:\n",
    "        if (bidder['Id'], bidder['Kw']) in cvr.keys():\n",
    "            temp.append(bidder)\n",
    "    row[keys['finalAssetIdList']] = temp\n",
    "    if len(temp) > 0:\n",
    "        data.append(row)\n",
    "\n",
    "print(\"number of queries after filtering = {}\".format(len(data)))"
   ]
  },
  {
   "cell_type": "code",
   "execution_count": 33,
   "metadata": {},
   "outputs": [
    {
     "name": "stdout",
     "output_type": "stream",
     "text": [
      "number of queries after filtering = 1100804\n"
     ]
    }
   ],
   "source": [
    "'''\n",
    "removing those assets whose true cvr is not available. if a query instance has no asset with true cvr data, then the\n",
    "whole query will be removed.\n",
    "'''\n",
    "data_del = []\n",
    "for row in raw_data_del:\n",
    "    temp = []\n",
    "    for bidder in row[keys['finalAssetIdList']]:\n",
    "        if (bidder['Id'], bidder['Kw']) in cvr.keys():\n",
    "            temp.append(bidder)\n",
    "    row[keys['finalAssetIdList']] = temp\n",
    "    if len(temp) > 0:\n",
    "        data_del.append(row)\n",
    "\n",
    "print(\"number of queries after filtering = {}\".format(len(data_del)))"
   ]
  },
  {
   "cell_type": "code",
   "execution_count": 34,
   "metadata": {},
   "outputs": [
    {
     "name": "stdout",
     "output_type": "stream",
     "text": [
      "3192 of 4030 cvrs were selected as prior information.\n"
     ]
    }
   ],
   "source": [
    "'''\n",
    "We should keep the true cvr dataset and give it to both models as prior information. We keep the true cvr data with \n",
    "probability = ratio\n",
    "'''\n",
    "def initialize_priors(ratio=0.8):\n",
    "    prior_cvr = {}\n",
    "    prior_n_ij = {}\n",
    "    for key in cvr.keys():\n",
    "        if np.random.binomial(1, ratio):\n",
    "            prior_cvr[key] = cvr[key]\n",
    "            prior_n_ij[key] = impression[key]\n",
    "    \n",
    "    return prior_cvr, prior_n_ij\n",
    "prior_cvr, prior_n_ij = initialize_priors()\n",
    "print(\"{} of {} cvrs were selected as prior information.\".format(len(prior_cvr.keys()), len(cvr.keys())))"
   ]
  },
  {
   "cell_type": "code",
   "execution_count": 35,
   "metadata": {},
   "outputs": [],
   "source": [
    "'''\n",
    "initializing the model parameters. cvr_hat, n_ij and n_j\n",
    "'''\n",
    "def get_parameters(reinit=False, ratio=0.8):\n",
    "    if reinit:\n",
    "        p_cvr, p_n_ij = initialize_priors(ratio)\n",
    "    else:\n",
    "        p_cvr, p_n_ij = prior_cvr, prior_n_ij\n",
    "    \n",
    "    cvr_hat = {}\n",
    "    n_ij = {}\n",
    "    n_j = {}\n",
    "    for key in cvr.keys():\n",
    "        cvr_hat[key] = p_cvr.get(key, 0)\n",
    "        n_ij[key] = p_n_ij.get(key, 0)\n",
    "        n_j[key[1]] = 0\n",
    "    return cvr_hat, n_ij, n_j"
   ]
  },
  {
   "cell_type": "code",
   "execution_count": null,
   "metadata": {},
   "outputs": [],
   "source": [
    "def determine_bidders(query, cvr_hat):\n",
    "    all_bidders = query[keys['finalAssetIdList']]\n",
    "    have_cvr = []\n",
    "    for bidder in all_bidders:\n",
    "        if cvr_hat[(bidder['Id'], bidder['Kw'])] != 0:\n",
    "            have_cvr.append(True)\n",
    "        else:\n",
    "            have_cvr.append(False)\n",
    "    \n",
    "    m = have_cvr.count(True)\n",
    "    n = len(have_cvr)\n",
    "    exploit = np.random.binomial(1, m/n)\n",
    "    if exploit == 0:\n",
    "        return all_bidders, exploit\n",
    "    \n",
    "    bidders_with_cvr = []\n",
    "    for i in range(len(all_bidders)):\n",
    "        if have_cvr[i]:\n",
    "            bidders_with_cvr.append(all_bidders[i])\n",
    "    \n",
    "    return bidders_with_cvr, exploit\n",
    "\n",
    "def old_allocation(bidders, exploit, cvr_hat):\n",
    "    score = [bidder['Pr'] for bidder in bidders]\n",
    "    if exploit == 1:\n",
    "        for i in range(len(bidders)):\n",
    "            score[i] *= cvr_hat[(bidders[i]['Id'], bidders[i]['Kw'])]\n",
    "    \n",
    "    sorted_idx = list((-np.array(score)).argsort())\n",
    "    if len(sorted_idx) == 1:\n",
    "        sorted_idx.append(None)\n",
    "    return {'winner': sorted_idx[0], 'second': sorted_idx[1]}\n",
    "\n",
    "def old_payment(bidders, exploit, winner, second, cvr_hat):\n",
    "    if second is None:\n",
    "        if bidders[winner]['Pr'] > 3000:\n",
    "            return bidders[winner]['Pr'] / 2\n",
    "        return max(1500, bidders[winner]['Pr'])\n",
    "    \n",
    "    if exploit == 0:\n",
    "        payment = bidders[second]['Pr']\n",
    "        if payment >= 1500:\n",
    "            return payment\n",
    "        return max(1500, bidders[winner]['Pr'] / 2)\n",
    "    \n",
    "    c1 = cvr_hat[(bidders[winner]['Id'], bidders[winner]['Kw'])]\n",
    "    c2 = cvr_hat[(bidders[second]['Id'], bidders[second]['Kw'])]\n",
    "    payment = (bidders[second]['Pr'] * c2) / c1\n",
    "    if payment >= 1500:\n",
    "        return payment\n",
    "    return max(1500, bidders[winner]['Pr'] / 2)\n",
    "\n",
    "\n",
    "def old_parse_query(query, cvr_hat, n_ij):\n",
    "    bidders, exploit = determine_bidders(query, cvr_hat)\n",
    "    \n",
    "    allocation = old_allocation(bidders, exploit, cvr_hat)\n",
    "    winner, second = allocation['winner'], allocation['second']\n",
    "    \n",
    "    revenue = old_payment(bidders, exploit, winner, second, cvr_hat)\n",
    "    if revenue < 1500:\n",
    "        raise ValueError(\"reveune is {}\".format(revenue))\n",
    "        \n",
    "#     vase inke payment bishtar az bid e taraf nashe!\n",
    "#     if query[keys['finalAssetIdList']][winner]['Pr'] < revenue:\n",
    "#         print(query)\n",
    "#     revenue = min(revenue, query[keys['finalAssetIdList']][winner]['Pr'])\n",
    "    \n",
    "    advertiser_id = bidders[winner]['Id']\n",
    "    keyword = bidders[winner]['Kw']\n",
    "    result = is_installed(cvr[(advertiser_id, keyword)])\n",
    "    \n",
    "    total_revenue = revenue * result\n",
    "    \n",
    "    cvr_hat[(advertiser_id, keyword)] = ((cvr_hat[(advertiser_id, keyword)] * n_ij[(advertiser_id, keyword)]) + result) / (n_ij[(advertiser_id, keyword)] + 1)\n",
    "    n_ij[(advertiser_id, keyword)] += 1\n",
    "    \n",
    "    return total_revenue\n",
    "\n",
    "def old_run(data, n=1, reinit=True, ratio=0.8):\n",
    "    old_total_revenue = 0\n",
    "    for _ in range(n):\n",
    "        cvr_hat, n_ij, _ = get_parameters(reinit=reinit, ratio=ratio)\n",
    "        \n",
    "        for row in data:\n",
    "            old_total_revenue += old_parse_query(row, cvr_hat, n_ij)\n",
    "            \n",
    "    \n",
    "    for i in range(len(data)):\n",
    "        old_total_revenue[i] /= n\n",
    "    \n",
    "    return old_total_revenue\n",
    "#     old_total_revenue = 0\n",
    "#     for i in range(n):\n",
    "#         cvr_hat, n_ij, _ = get_parameters(reinit=reinit, ratio=ratio)\n",
    "        \n",
    "#         for row in data:\n",
    "#             old_total_revenue += old_parse_query(row, cvr_hat, n_ij)\n",
    "#     return old_total_revenue / n"
   ]
  },
  {
   "cell_type": "code",
   "execution_count": null,
   "metadata": {},
   "outputs": [],
   "source": []
  }
 ],
 "metadata": {
  "kernelspec": {
   "display_name": "Python 3",
   "language": "python",
   "name": "python3"
  },
  "language_info": {
   "codemirror_mode": {
    "name": "ipython",
    "version": 3
   },
   "file_extension": ".py",
   "mimetype": "text/x-python",
   "name": "python",
   "nbconvert_exporter": "python",
   "pygments_lexer": "ipython3",
   "version": "3.6.7"
  }
 },
 "nbformat": 4,
 "nbformat_minor": 2
}
